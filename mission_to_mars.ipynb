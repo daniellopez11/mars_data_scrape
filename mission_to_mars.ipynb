{
 "cells": [
  {
   "cell_type": "code",
   "execution_count": 6,
   "metadata": {
    "collapsed": true
   },
   "outputs": [],
   "source": [
    "# Dependencies\n",
    "from bs4 import BeautifulSoup\n",
    "import requests\n",
    "from splinter import Browser"
   ]
  },
  {
   "cell_type": "code",
   "execution_count": 7,
   "metadata": {
    "collapsed": true
   },
   "outputs": [],
   "source": [
    "# URL of NASA Mars News Site\n",
    "url = 'https://mars.nasa.gov/news/'"
   ]
  },
  {
   "cell_type": "code",
   "execution_count": 9,
   "metadata": {},
   "outputs": [],
   "source": [
    "html = \"\"\n",
    "\n",
    "with Browser() as browser:\n",
    "    url = 'https://mars.nasa.gov/news/'\n",
    "    browser.visit(url)\n",
    "    html = browser.html"
   ]
  },
  {
   "cell_type": "code",
   "execution_count": 23,
   "metadata": {},
   "outputs": [],
   "source": [
    "# Create BeautifulSoup object; parse with 'html.parser'\n",
    "soup = BeautifulSoup(html, 'html.parser')\n",
    "\n",
    "results = soup.find_all('li', class_='slide')"
   ]
  },
  {
   "cell_type": "code",
   "execution_count": 33,
   "metadata": {},
   "outputs": [
    {
     "name": "stdout",
     "output_type": "stream",
     "text": [
      "----num of results----\n",
      "15\n",
      "----num of results----\n"
     ]
    }
   ],
   "source": [
    "print('----num of results----')\n",
    "print(len(results))\n",
    "print('----num of results----')"
   ]
  },
  {
   "cell_type": "code",
   "execution_count": 32,
   "metadata": {},
   "outputs": [
    {
     "name": "stdout",
     "output_type": "stream",
     "text": [
      "Mars Study Yields Clues to Possible Cradle of Life\n",
      "The discovery of evidence for ancient sea-floor hydrothermal deposits on Mars identifies an area on the planet that may offer clues about the origin of life on Earth.\n",
      "Examining Mars' Moon Phobos in a Different Light\n",
      "NASA's longest-lived mission to Mars has gained its first look at the Martian moon Phobos, pursuing a deeper understanding by examining it in infrared wavelengths.\n",
      "Another Chance to Put Your Name on Mars\n",
      "NASA's InSight lander will travel to Mars next year. When it does, it will be carrying two microchips bearing the names of members of the public.\n",
      "Large Solar Storm Sparks Global Aurora and Doubles Radiation Levels on the Martian Surface\n",
      "An unexpectedly strong blast from the Sun hit Mars in September, observed by NASA missions in orbit and on the surface.\n",
      "A Fresh Look at Older Data Yields a Surprise Near the Martian Equator\n",
      "Scientists taking a new look at older data from NASA's longest-operating Mars orbiter have discovered evidence of significant hydration near the Martian equator -- a mysterious signature in a region of the Red Planet where planetary scientists figure ice shouldn't exist.\n",
      "NASA's Curiosity Mars Rover Climbing Toward Ridge Top\n",
      "NASA's Mars rover Curiosity has begun the steep ascent of an iron-oxide-bearing ridge that's grabbed scientists' attention since before the car-sized rover's 2012 landing.\n",
      "NASA's Next Mars Mission to Investigate Interior of Red Planet\n",
      "Preparation of NASA's next spacecraft to Mars, InSight, has ramped up this summer, on course for launch next May from Vandenberg Air Force Base in central California -- the first interplanetary launch in history from America's West Coast.\n",
      "Watch Martian Clouds Scoot, Thanks to NASA's Curiosity\n",
      "Wispy, early-season clouds resembling Earth's ice-crystal cirrus clouds move across the Martian sky in some new image sequences from NASA's Curiosity Mars rover.\n",
      "Five Years Ago and 154 Million Miles Away:  Touchdown!\n",
      "NASA's Curiosity Mars rover, which landed near Mount Sharp five years ago this week, is examining  clues on that mountain about long-ago lakes on Mars.\n",
      "Eclipse Balloons to Study Effect of Mars-Like Environment on Life\n",
      "Microbes carried to the edge of space during the Aug. 21 eclipse will be analyzed by NASA's Ames Research Center and JPL.\n",
      "From Mars Rover: Panorama Above 'Perseverance Valley'\n",
      "NASA's Mars Exploration Rover Opportunity recorded a panoramic view before entering the upper end of a fluid-carved valley that descends the inner slope of a large crater's rim.\n",
      "NASA's Hubble Sees Martian Moon Orbiting the Red Planet\n",
      "The sharp eye of NASA's Hubble Space Telescope has captured the tiny moon Phobos during its orbital trek around Mars. Because the moon is so small, it appears star-like in the Hubble pictures.\n",
      "For Moratorium on Sending Commands to Mars, Blame the Sun\n",
      "This month, movements of the planets will put Mars almost directly behind the sun, from Earth's perspective, causing curtailed communications between Earth and Mars.\n",
      "Curiosity Mars Rover Begins Study of Ridge Destination\n",
      "The car-size NASA rover on a Martian mountain, Curiosity, has begun its long-anticipated study of an iron-bearing ridge forming a distinctive layer on the mountain's slope.\n",
      "An Algorithm Helps Protect Mars Curiosity's Wheels\n",
      "There are no mechanics on Mars, so the next best thing for NASA's Curiosity rover is careful driving.\n"
     ]
    }
   ],
   "source": [
    "# Loop through returned results to collect the News Title and Paragragh Text\n",
    "for result in results:\n",
    "    try:\n",
    "        # Retrieve the title text\n",
    "        title = result.find('h3')\n",
    "        news_title = title.text\n",
    "        print(news_title)\n",
    "        \n",
    "        # Retrieve the paragrah text\n",
    "        para = result.find('div', class_='rollover_description_inner')\n",
    "        news_p = para.text\n",
    "        print(news_p)\n",
    "\n",
    "    except:\n",
    "        print(\"This is an error message!\")"
   ]
  },
  {
   "cell_type": "code",
   "execution_count": null,
   "metadata": {
    "collapsed": true
   },
   "outputs": [],
   "source": []
  }
 ],
 "metadata": {
  "kernelspec": {
   "display_name": "Python 3",
   "language": "python",
   "name": "python3"
  },
  "language_info": {
   "codemirror_mode": {
    "name": "ipython",
    "version": 3
   },
   "file_extension": ".py",
   "mimetype": "text/x-python",
   "name": "python",
   "nbconvert_exporter": "python",
   "pygments_lexer": "ipython3",
   "version": "3.6.0"
  }
 },
 "nbformat": 4,
 "nbformat_minor": 2
}
