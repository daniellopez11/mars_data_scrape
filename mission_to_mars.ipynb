{
 "cells": [
  {
   "cell_type": "code",
   "execution_count": 16,
   "metadata": {},
   "outputs": [],
   "source": [
    "# Dependencies\n",
    "from bs4 import BeautifulSoup\n",
    "import requests\n",
    "from splinter import Browser\n",
    "\n",
    "# executable_path = {'executable_path':'C:\\Program Files (x86)\\Google\\Chrome\\Application\\chrome.exe'}\n",
    "\n",
    "# # browser = Browser('chrome', **executable_path)\n",
    "\n",
    "# browser = Browser('chrome', headless=True)"
   ]
  },
  {
   "cell_type": "code",
   "execution_count": 17,
   "metadata": {},
   "outputs": [],
   "source": [
    "# NASA Mars news site scrape\n",
    "\n",
    "news_html = \"\"\n",
    "\n",
    "with Browser() as browser:\n",
    "    url = 'https://mars.nasa.gov/news/'\n",
    "    browser.visit(url)\n",
    "    news_html = browser.html\n",
    "    \n",
    "# Create BeautifulSoup object; parse with 'html.parser'\n",
    "soup = BeautifulSoup(news_html, 'html.parser')\n",
    "\n",
    "results = soup.find_all('li', class_='slide')"
   ]
  },
  {
   "cell_type": "code",
   "execution_count": 18,
   "metadata": {
    "scrolled": true
   },
   "outputs": [
    {
     "name": "stdout",
     "output_type": "stream",
     "text": [
      "Take a Walk on Mars -- in Your Own Living Room\n",
      "When NASA scientists want to follow the path of the Curiosity rover on Mars, they can don a mixed-reality headset and virtually explore the Martian landscape.\n",
      "NASA’s MAVEN Mission Finds Mars Has a Twisted Tail\n",
      "Mars has an invisible magnetic “tail” that is twisted by interaction with the solar wind, according to new research using data from NASA’s MAVEN spacecraft. \n",
      "Mars Study Yields Clues to Possible Cradle of Life\n",
      "The discovery of evidence for ancient sea-floor hydrothermal deposits on Mars identifies an area on the planet that may offer clues about the origin of life on Earth.\n",
      "Examining Mars' Moon Phobos in a Different Light\n",
      "NASA's longest-lived mission to Mars has gained its first look at the Martian moon Phobos, pursuing a deeper understanding by examining it in infrared wavelengths.\n",
      "Another Chance to Put Your Name on Mars\n",
      "NASA's InSight lander will travel to Mars next year. When it does, it will be carrying two microchips bearing the names of members of the public.\n",
      "Large Solar Storm Sparks Global Aurora and Doubles Radiation Levels on the Martian Surface\n",
      "An unexpectedly strong blast from the Sun hit Mars in September, observed by NASA missions in orbit and on the surface.\n",
      "A Fresh Look at Older Data Yields a Surprise Near the Martian Equator\n",
      "Scientists taking a new look at older data from NASA's longest-operating Mars orbiter have discovered evidence of significant hydration near the Martian equator -- a mysterious signature in a region of the Red Planet where planetary scientists figure ice shouldn't exist.\n",
      "NASA's Curiosity Mars Rover Climbing Toward Ridge Top\n",
      "NASA's Mars rover Curiosity has begun the steep ascent of an iron-oxide-bearing ridge that's grabbed scientists' attention since before the car-sized rover's 2012 landing.\n",
      "NASA's Next Mars Mission to Investigate Interior of Red Planet\n",
      "Preparation of NASA's next spacecraft to Mars, InSight, has ramped up this summer, on course for launch next May from Vandenberg Air Force Base in central California -- the first interplanetary launch in history from America's West Coast.\n",
      "Watch Martian Clouds Scoot, Thanks to NASA's Curiosity\n",
      "Wispy, early-season clouds resembling Earth's ice-crystal cirrus clouds move across the Martian sky in some new image sequences from NASA's Curiosity Mars rover.\n",
      "Five Years Ago and 154 Million Miles Away:  Touchdown!\n",
      "NASA's Curiosity Mars rover, which landed near Mount Sharp five years ago this week, is examining  clues on that mountain about long-ago lakes on Mars.\n",
      "Eclipse Balloons to Study Effect of Mars-Like Environment on Life\n",
      "Microbes carried to the edge of space during the Aug. 21 eclipse will be analyzed by NASA's Ames Research Center and JPL.\n",
      "From Mars Rover: Panorama Above 'Perseverance Valley'\n",
      "NASA's Mars Exploration Rover Opportunity recorded a panoramic view before entering the upper end of a fluid-carved valley that descends the inner slope of a large crater's rim.\n",
      "NASA's Hubble Sees Martian Moon Orbiting the Red Planet\n",
      "The sharp eye of NASA's Hubble Space Telescope has captured the tiny moon Phobos during its orbital trek around Mars. Because the moon is so small, it appears star-like in the Hubble pictures.\n",
      "For Moratorium on Sending Commands to Mars, Blame the Sun\n",
      "This month, movements of the planets will put Mars almost directly behind the sun, from Earth's perspective, causing curtailed communications between Earth and Mars.\n"
     ]
    }
   ],
   "source": [
    "# Loop through returned results to collect the News Title and Paragragh Text\n",
    "\n",
    "news_title = []\n",
    "news_para = []\n",
    "\n",
    "for result in results:\n",
    "    try:\n",
    "        # Retrieve the title text\n",
    "        title = result.find('h3')\n",
    "        n_title = title.text\n",
    "        news_title.append(n_title)\n",
    "        print(n_title)\n",
    "\n",
    "        # Retrieve the paragrah text\n",
    "        para = result.find('div', class_='rollover_description_inner')\n",
    "        n_para = para.text\n",
    "        news_para.append(n_para)\n",
    "        print(n_para)\n",
    "\n",
    "    except:\n",
    "        print(\"This is an error message!\")"
   ]
  },
  {
   "cell_type": "code",
   "execution_count": 31,
   "metadata": {
    "collapsed": true
   },
   "outputs": [],
   "source": [
    "# JPL Mars Space Featured Image scrape\n",
    "\n",
    "#url for jpl main site\n",
    "jpl_url = 'https://www.jpl.nasa.gov'\n",
    "\n",
    "image_html = \"\"\n",
    "\n",
    "with Browser() as browser:\n",
    "    url = jpl_url + '/spaceimages/?search=&category=Mars'\n",
    "    browser.visit(url)\n",
    "    image_html = browser.html\n",
    "    \n",
    "# Create BeautifulSoup object; parse with 'html.parser'\n",
    "soup = BeautifulSoup(image_html, 'html.parser')\n",
    "\n",
    "results = soup.find_all('div', class_='carousel_items')"
   ]
  },
  {
   "cell_type": "code",
   "execution_count": 38,
   "metadata": {},
   "outputs": [
    {
     "name": "stdout",
     "output_type": "stream",
     "text": [
      "\n",
      "\t\t\t\t  Charon in Enhanced Color\t\t\t\t\n",
      "Charon's color palette is not as diverse as Pluto's; most striking is the reddish north (top) polar region, informally named Mordor Macula, as seen by NASA's New Horizons.\n",
      " \n",
      "https://www.jpl.nasa.gov/spaceimages/images/mediumsize/PIA19968_ip.jpg\n"
     ]
    }
   ],
   "source": [
    "# loop over results to scrape image data\n",
    "for result in results:\n",
    "    \n",
    "    # Retrieve image title & description\n",
    "    image_title = result.find('h1', class_ = 'media_feature_title')  \n",
    "    image_desc = result.a['data-description']\n",
    "    print(image_title.text)\n",
    "    print(image_desc)\n",
    "    print(' ')\n",
    "\n",
    "    # Retrieve full image url\n",
    "    image_link = result.a['data-fancybox-href']\n",
    "    feat_image_url = jpl_url + image_link\n",
    "    print(feat_image_url)"
   ]
  },
  {
   "cell_type": "code",
   "execution_count": null,
   "metadata": {
    "collapsed": true
   },
   "outputs": [],
   "source": []
  }
 ],
 "metadata": {
  "kernelspec": {
   "display_name": "Python 3",
   "language": "python",
   "name": "python3"
  },
  "language_info": {
   "codemirror_mode": {
    "name": "ipython",
    "version": 3
   },
   "file_extension": ".py",
   "mimetype": "text/x-python",
   "name": "python",
   "nbconvert_exporter": "python",
   "pygments_lexer": "ipython3",
   "version": "3.6.0"
  }
 },
 "nbformat": 4,
 "nbformat_minor": 2
}
